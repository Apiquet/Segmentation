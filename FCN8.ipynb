{
 "cells": [
  {
   "cell_type": "code",
   "execution_count": 1,
   "metadata": {},
   "outputs": [],
   "source": [
    "import sys\n",
    "sys.path.append(\"../Tracking_SSD_ReID/\")\n",
    "from data_management.VOC2012ManagerObjDetection import VOC2012ManagerObjDetection\n",
    "manager = VOC2012ManagerObjDetection(\"../data/VOCdevkit/VOC2012/\")\n",
    "imgs, boxes_gt, classes_gt = manager.getRawData(manager.batches[2][15:20])\n",
    "\n",
    "import tensorflow as tf\n",
    "from models.SSD300 import SSD300\n",
    "SSD300_model = SSD300(21)\n",
    "confs, locs = SSD300_model(imgs)"
   ]
  },
  {
   "cell_type": "markdown",
   "metadata": {},
   "source": [
    "## Load SSD weights trained on VOC2012"
   ]
  },
  {
   "cell_type": "code",
   "execution_count": 2,
   "metadata": {},
   "outputs": [],
   "source": [
    "SSD300_model.load_weights(\"../data/weights_alldata/ssd_weights_epoch_0380.h5\")\n",
    "SSD_backbone = SSD300_model.getVGG16()"
   ]
  },
  {
   "cell_type": "markdown",
   "metadata": {},
   "source": [
    "## Import VGG16: the feature extractor of the segmentation model"
   ]
  },
  {
   "cell_type": "code",
   "execution_count": 3,
   "metadata": {},
   "outputs": [],
   "source": [
    "from models.VGG16 import VGG16\n",
    "VGG16 = VGG16(input_shape=(300, 300, 3))\n",
    "VGG16_tilStage5 = tf.keras.models.Sequential([\n",
    "    VGG16.getUntilStage4(),\n",
    "    VGG16.getStage5()])"
   ]
  },
  {
   "cell_type": "markdown",
   "metadata": {},
   "source": [
    "## Load weights from the SSD model"
   ]
  },
  {
   "cell_type": "code",
   "execution_count": 4,
   "metadata": {},
   "outputs": [],
   "source": [
    "for i in range(len(VGG16_tilStage5.layers)):\n",
    "    VGG16_tilStage5.get_layer(index=i).set_weights(\n",
    "        SSD_backbone.get_layer(index=i).get_weights())"
   ]
  },
  {
   "cell_type": "code",
   "execution_count": null,
   "metadata": {},
   "outputs": [],
   "source": []
  }
 ],
 "metadata": {
  "kernelspec": {
   "display_name": "Python 3",
   "language": "python",
   "name": "python3"
  },
  "language_info": {
   "codemirror_mode": {
    "name": "ipython",
    "version": 3
   },
   "file_extension": ".py",
   "mimetype": "text/x-python",
   "name": "python",
   "nbconvert_exporter": "python",
   "pygments_lexer": "ipython3",
   "version": "3.8.5"
  }
 },
 "nbformat": 4,
 "nbformat_minor": 4
}
