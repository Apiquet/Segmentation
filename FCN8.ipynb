{
 "cells": [
  {
   "cell_type": "code",
   "execution_count": 1,
   "metadata": {},
   "outputs": [],
   "source": [
    "import sys\n",
    "sys.path.append(\"../Tracking_SSD_ReID/\")\n",
    "from data_management.VOC2012ManagerObjDetection import VOC2012ManagerObjDetection\n",
    "manager = VOC2012ManagerObjDetection(\"../data/VOCdevkit/VOC2012/\")\n",
    "imgs, boxes_gt, classes_gt = manager.getRawData(manager.batches[2][15:20])\n",
    "\n",
    "import tensorflow as tf\n",
    "from models.SSD300 import SSD300\n",
    "n_classes = 21\n",
    "SSD300_model = SSD300(n_classes)\n",
    "confs, locs = SSD300_model(imgs)"
   ]
  },
  {
   "cell_type": "markdown",
   "metadata": {},
   "source": [
    "## Load SSD weights trained on VOC2012"
   ]
  },
  {
   "cell_type": "code",
   "execution_count": 2,
   "metadata": {},
   "outputs": [],
   "source": [
    "SSD300_model.load_weights(\"../data/weights_alldata/ssd_weights_epoch_0380.h5\")\n",
    "SSD_backbone = SSD300_model.getVGG16()"
   ]
  },
  {
   "cell_type": "markdown",
   "metadata": {},
   "source": [
    "## Import VGG16: the feature extractor of the segmentation model"
   ]
  },
  {
   "cell_type": "code",
   "execution_count": 3,
   "metadata": {},
   "outputs": [
    {
     "name": "stdout",
     "output_type": "stream",
     "text": [
      "Model: \"sequential_3\"\n",
      "_________________________________________________________________\n",
      "Layer (type)                 Output Shape              Param #   \n",
      "=================================================================\n",
      "Conv1_1 (Conv2D)             (None, 300, 300, 64)      1792      \n",
      "_________________________________________________________________\n",
      "Conv1_2 (Conv2D)             (None, 300, 300, 64)      36928     \n",
      "_________________________________________________________________\n",
      "max_pooling2d_5 (MaxPooling2 (None, 150, 150, 64)      0         \n",
      "_________________________________________________________________\n",
      "Conv2_1 (Conv2D)             (None, 150, 150, 128)     73856     \n",
      "_________________________________________________________________\n",
      "Conv2_2 (Conv2D)             (None, 150, 150, 128)     147584    \n",
      "_________________________________________________________________\n",
      "max_pooling2d_6 (MaxPooling2 (None, 75, 75, 128)       0         \n",
      "_________________________________________________________________\n",
      "Conv3_1 (Conv2D)             (None, 75, 75, 256)       295168    \n",
      "_________________________________________________________________\n",
      "Conv3_2 (Conv2D)             (None, 75, 75, 256)       590080    \n",
      "_________________________________________________________________\n",
      "Conv3_3 (Conv2D)             (None, 75, 75, 256)       590080    \n",
      "_________________________________________________________________\n",
      "max_pooling2d_7 (MaxPooling2 (None, 38, 38, 256)       0         \n",
      "_________________________________________________________________\n",
      "Conv4_1 (Conv2D)             (None, 38, 38, 512)       1180160   \n",
      "_________________________________________________________________\n",
      "Conv4_2 (Conv2D)             (None, 38, 38, 512)       2359808   \n",
      "_________________________________________________________________\n",
      "Conv4_3 (Conv2D)             (None, 38, 38, 512)       2359808   \n",
      "_________________________________________________________________\n",
      "max_pooling2d_8 (MaxPooling2 (None, 19, 19, 512)       0         \n",
      "_________________________________________________________________\n",
      "Conv5_1 (Conv2D)             (None, 19, 19, 512)       2359808   \n",
      "_________________________________________________________________\n",
      "Conv5_2 (Conv2D)             (None, 19, 19, 512)       2359808   \n",
      "_________________________________________________________________\n",
      "Conv5_3 (Conv2D)             (None, 19, 19, 512)       2359808   \n",
      "=================================================================\n",
      "Total params: 14,714,688\n",
      "Trainable params: 14,714,688\n",
      "Non-trainable params: 0\n",
      "_________________________________________________________________\n"
     ]
    }
   ],
   "source": [
    "from models.VGG16 import VGG16\n",
    "input_shape=(300, 300, 3)\n",
    "VGG16 = VGG16(input_shape=input_shape)\n",
    "VGG16_tilStage5 = VGG16.getUntilStage5()\n",
    "VGG16_tilStage5.summary()"
   ]
  },
  {
   "cell_type": "markdown",
   "metadata": {},
   "source": [
    "## Load weights from the SSD model"
   ]
  },
  {
   "cell_type": "code",
   "execution_count": 29,
   "metadata": {},
   "outputs": [],
   "source": [
    "ssd_seq_idx = 0\n",
    "ssd_layer_idx = 0\n",
    "for i in range(len(VGG16_tilStage5.layers)):\n",
    "    ssd_layer_idx = i\n",
    "    if i >= 13:\n",
    "        ssd_seq_idx = 1\n",
    "        ssd_layer_idx -= 13\n",
    "    VGG16_tilStage5.get_layer(index=i).set_weights(\n",
    "        SSD_backbone.get_layer(index=ssd_seq_idx).get_layer(index=ssd_layer_idx).get_weights())\n",
    "    VGG16_tilStage5.get_layer(index=i).trainable = True"
   ]
  },
  {
   "cell_type": "markdown",
   "metadata": {},
   "source": [
    "## Add FCN8 decoder"
   ]
  },
  {
   "cell_type": "code",
   "execution_count": 50,
   "metadata": {},
   "outputs": [],
   "source": [
    "inputs = tf.keras.layers.Input(shape=input_shape)\n",
    "x = VGG16_tilStage5.get_layer(index=0)(inputs)\n",
    "for i in range(1, 10):\n",
    "    x = VGG16_tilStage5.get_layer(index=i)(x)\n",
    "out_stage_3 = x\n",
    "\n",
    "for i in range(10, 14):\n",
    "    x = VGG16_tilStage5.get_layer(index=i)(x)\n",
    "out_stage_4 = x\n",
    "\n",
    "for i in range(14, len(VGG16_tilStage5.layers)):\n",
    "    x = VGG16_tilStage5.get_layer(index=i)(x)\n",
    "\n",
    "x = tf.keras.layers.MaxPool2D(pool_size=(2, 2), strides=(2, 2), padding='same')(x)\n",
    "\n",
    "x = tf.keras.layers.Conv2D(4096, (7, 7), activation='relu', padding='same')(x)\n",
    "x = tf.keras.layers.Conv2D(4096, (1, 1), activation='relu', padding='same')(x)\n",
    "\n",
    "x = tf.keras.layers.Conv2DTranspose(n_classes, kernel_size=(4, 4), strides=(2, 2), use_bias=False)(x)\n",
    "x = tf.keras.layers.Cropping2D(cropping=((2, 1), (1, 2)))(x)\n",
    "\n",
    "out_stage_4_resized = tf.keras.layers.Conv2D(n_classes, (1, 1), activation='relu', padding='same')(out_stage_4)\n",
    "\n",
    "x = tf.keras.layers.Add()([x, out_stage_4_resized])\n",
    "\n",
    "x = (tf.keras.layers.Conv2DTranspose(n_classes, kernel_size=(4, 4),  strides=(2, 2), use_bias=False))(x)\n",
    "x = tf.keras.layers.Cropping2D(cropping=(1, 1))(x)\n",
    "\n",
    "out_stage_3_resized = tf.keras.layers.Conv2D(n_classes, (1, 1), activation='relu', padding='same')(out_stage_3)\n",
    "\n",
    "x = tf.keras.layers.Add()([x, out_stage_3_resized])\n",
    "\n",
    "x = tf.keras.layers.Conv2DTranspose(n_classes, kernel_size=(8, 8),  strides=(8, 8), use_bias=False)(x)\n",
    "x = tf.keras.layers.Cropping2D(cropping=(2, 2))(x)\n",
    "\n",
    "outputs = tf.keras.layers.Activation('softmax')(x)"
   ]
  },
  {
   "cell_type": "code",
   "execution_count": 51,
   "metadata": {},
   "outputs": [
    {
     "name": "stdout",
     "output_type": "stream",
     "text": [
      "Model: \"functional_19\"\n",
      "__________________________________________________________________________________________________\n",
      "Layer (type)                    Output Shape         Param #     Connected to                     \n",
      "==================================================================================================\n",
      "input_31 (InputLayer)           [(None, 300, 300, 3) 0                                            \n",
      "__________________________________________________________________________________________________\n",
      "Conv1_1 (Conv2D)                (None, 300, 300, 64) 1792        input_31[0][0]                   \n",
      "__________________________________________________________________________________________________\n",
      "Conv1_2 (Conv2D)                (None, 300, 300, 64) 36928       Conv1_1[30][0]                   \n",
      "__________________________________________________________________________________________________\n",
      "max_pooling2d_5 (MaxPooling2D)  (None, 150, 150, 64) 0           Conv1_2[30][0]                   \n",
      "__________________________________________________________________________________________________\n",
      "Conv2_1 (Conv2D)                (None, 150, 150, 128 73856       max_pooling2d_5[30][0]           \n",
      "__________________________________________________________________________________________________\n",
      "Conv2_2 (Conv2D)                (None, 150, 150, 128 147584      Conv2_1[30][0]                   \n",
      "__________________________________________________________________________________________________\n",
      "max_pooling2d_6 (MaxPooling2D)  (None, 75, 75, 128)  0           Conv2_2[30][0]                   \n",
      "__________________________________________________________________________________________________\n",
      "Conv3_1 (Conv2D)                (None, 75, 75, 256)  295168      max_pooling2d_6[30][0]           \n",
      "__________________________________________________________________________________________________\n",
      "Conv3_2 (Conv2D)                (None, 75, 75, 256)  590080      Conv3_1[30][0]                   \n",
      "__________________________________________________________________________________________________\n",
      "Conv3_3 (Conv2D)                (None, 75, 75, 256)  590080      Conv3_2[30][0]                   \n",
      "__________________________________________________________________________________________________\n",
      "max_pooling2d_7 (MaxPooling2D)  (None, 38, 38, 256)  0           Conv3_3[30][0]                   \n",
      "__________________________________________________________________________________________________\n",
      "Conv4_1 (Conv2D)                (None, 38, 38, 512)  1180160     max_pooling2d_7[30][0]           \n",
      "__________________________________________________________________________________________________\n",
      "Conv4_2 (Conv2D)                (None, 38, 38, 512)  2359808     Conv4_1[30][0]                   \n",
      "__________________________________________________________________________________________________\n",
      "Conv4_3 (Conv2D)                (None, 38, 38, 512)  2359808     Conv4_2[30][0]                   \n",
      "__________________________________________________________________________________________________\n",
      "max_pooling2d_8 (MaxPooling2D)  multiple             0           Conv4_3[30][0]                   \n",
      "__________________________________________________________________________________________________\n",
      "Conv5_1 (Conv2D)                multiple             2359808     max_pooling2d_8[31][0]           \n",
      "__________________________________________________________________________________________________\n",
      "Conv5_2 (Conv2D)                multiple             2359808     Conv5_1[30][0]                   \n",
      "__________________________________________________________________________________________________\n",
      "Conv5_3 (Conv2D)                multiple             2359808     Conv5_2[30][0]                   \n",
      "__________________________________________________________________________________________________\n",
      "max_pooling2d_21 (MaxPooling2D) (None, 10, 10, 512)  0           Conv5_3[30][0]                   \n",
      "__________________________________________________________________________________________________\n",
      "conv2d_53 (Conv2D)              (None, 10, 10, 4096) 102764544   max_pooling2d_21[0][0]           \n",
      "__________________________________________________________________________________________________\n",
      "conv2d_54 (Conv2D)              (None, 10, 10, 4096) 16781312    conv2d_53[0][0]                  \n",
      "__________________________________________________________________________________________________\n",
      "conv2d_transpose_58 (Conv2DTran (None, 22, 22, 21)   1376256     conv2d_54[0][0]                  \n",
      "__________________________________________________________________________________________________\n",
      "cropping2d_50 (Cropping2D)      (None, 19, 19, 21)   0           conv2d_transpose_58[0][0]        \n",
      "__________________________________________________________________________________________________\n",
      "conv2d_55 (Conv2D)              (None, 19, 19, 21)   10773       max_pooling2d_8[31][0]           \n",
      "__________________________________________________________________________________________________\n",
      "add_49 (Add)                    (None, 19, 19, 21)   0           cropping2d_50[0][0]              \n",
      "                                                                 conv2d_55[0][0]                  \n",
      "__________________________________________________________________________________________________\n",
      "conv2d_transpose_59 (Conv2DTran (None, 40, 40, 21)   7056        add_49[0][0]                     \n",
      "__________________________________________________________________________________________________\n",
      "cropping2d_51 (Cropping2D)      (None, 38, 38, 21)   0           conv2d_transpose_59[0][0]        \n",
      "__________________________________________________________________________________________________\n",
      "conv2d_56 (Conv2D)              (None, 38, 38, 21)   5397        max_pooling2d_7[30][0]           \n",
      "__________________________________________________________________________________________________\n",
      "add_50 (Add)                    (None, 38, 38, 21)   0           cropping2d_51[0][0]              \n",
      "                                                                 conv2d_56[0][0]                  \n",
      "__________________________________________________________________________________________________\n",
      "conv2d_transpose_60 (Conv2DTran (None, 304, 304, 21) 28224       add_50[0][0]                     \n",
      "__________________________________________________________________________________________________\n",
      "cropping2d_52 (Cropping2D)      (None, 300, 300, 21) 0           conv2d_transpose_60[0][0]        \n",
      "__________________________________________________________________________________________________\n",
      "activation_9 (Activation)       (None, 300, 300, 21) 0           cropping2d_52[0][0]              \n",
      "==================================================================================================\n",
      "Total params: 135,688,250\n",
      "Trainable params: 135,688,250\n",
      "Non-trainable params: 0\n",
      "__________________________________________________________________________________________________\n"
     ]
    }
   ],
   "source": [
    "model = tf.keras.Model(inputs=inputs, outputs=outputs)\n",
    "model.summary()"
   ]
  },
  {
   "cell_type": "code",
   "execution_count": null,
   "metadata": {},
   "outputs": [],
   "source": []
  }
 ],
 "metadata": {
  "kernelspec": {
   "display_name": "Python 3",
   "language": "python",
   "name": "python3"
  },
  "language_info": {
   "codemirror_mode": {
    "name": "ipython",
    "version": 3
   },
   "file_extension": ".py",
   "mimetype": "text/x-python",
   "name": "python",
   "nbconvert_exporter": "python",
   "pygments_lexer": "ipython3",
   "version": "3.8.5"
  }
 },
 "nbformat": 4,
 "nbformat_minor": 4
}
